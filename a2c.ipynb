{
 "cells": [
  {
   "cell_type": "code",
   "execution_count": 32,
   "metadata": {},
   "outputs": [],
   "source": [
    "import gym \n",
    "import warnings\n",
    "warnings.filterwarnings('ignore')\n",
    "import matplotlib.pyplot as plt\n",
    "import torch\n",
    "from torch.nn import Sequential, Linear, ReLU, Module\n",
    "from tqdm.notebook import tqdm_notebook\n",
    "from torch.optim import Adam\n",
    "import math \n",
    "import random\n",
    "from torch.nn.functional import mse_loss\n",
    "import torch.nn.functional as F\n",
    "import itertools\n",
    "from torch.distributions import Categorical"
   ]
  },
  {
   "cell_type": "code",
   "execution_count": 27,
   "metadata": {},
   "outputs": [],
   "source": [
    "import math\n",
    "import random\n",
    "import numpy as np\n",
    "import matplotlib\n",
    "import matplotlib.pyplot as plt\n",
    "from collections import namedtuple"
   ]
  },
  {
   "cell_type": "markdown",
   "metadata": {},
   "source": [
    "## n-step A2C (Advantage actor critic)"
   ]
  },
  {
   "cell_type": "code",
   "execution_count": 28,
   "metadata": {},
   "outputs": [],
   "source": [
    "class ActorNetwork(torch.nn.Module):\n",
    "\n",
    "    def __init__(self,input_size,hidden_size,action_size):\n",
    "        super(ActorNetwork, self).__init__()\n",
    "        self.fc1 = torch.nn.Linear(input_size,hidden_size)\n",
    "        self.fc2 = torch.nn.Linear(hidden_size,hidden_size)\n",
    "        self.fc3 = torch.nn.Linear(hidden_size,action_size)\n",
    "\n",
    "    def forward(self,x):\n",
    "        out = F.relu(self.fc1(x))\n",
    "        out = F.relu(self.fc2(out))\n",
    "        out = F.log_softmax(self.fc3(out))\n",
    "        return out"
   ]
  },
  {
   "cell_type": "code",
   "execution_count": 29,
   "metadata": {},
   "outputs": [],
   "source": [
    "class ValueNetwork(torch.nn.Module):\n",
    "\n",
    "    def __init__(self,input_size,hidden_size,output_size):\n",
    "        super(ValueNetwork, self).__init__()\n",
    "        self.fc1 = torch.nn.Linear(input_size,hidden_size)\n",
    "        self.fc2 = torch.nn.Linear(hidden_size,hidden_size)\n",
    "        self.fc3 = torch.nn.Linear(hidden_size,output_size)\n",
    "\n",
    "    def forward(self,x):\n",
    "        out = F.relu(self.fc1(x))\n",
    "        out = F.relu(self.fc2(out))\n",
    "        out = self.fc3(out)\n",
    "        return out"
   ]
  },
  {
   "cell_type": "code",
   "execution_count": 30,
   "metadata": {},
   "outputs": [],
   "source": [
    "dev = torch.device('cuda')\n",
    "hidden_size = 20\n",
    "critic = ValueNetwork(4, hidden_size, 1).to(dev)\n",
    "actor = ActorNetwork(4, hidden_size, 2).to(dev)"
   ]
  },
  {
   "cell_type": "code",
   "execution_count": 31,
   "metadata": {},
   "outputs": [
    {
     "data": {
      "application/vnd.jupyter.widget-view+json": {
       "model_id": "df53be69e61643e2b939f8c899e6d6fc",
       "version_major": 2,
       "version_minor": 0
      },
      "text/plain": [
       "HBox(children=(FloatProgress(value=0.0, max=1000.0), HTML(value='')))"
      ]
     },
     "metadata": {},
     "output_type": "display_data"
    },
    {
     "name": "stdout",
     "output_type": "stream",
     "text": [
      "\n"
     ]
    }
   ],
   "source": [
    "n_episodes = 1000\n",
    "lr = 1e-3\n",
    "gamma = 0.99\n",
    "n_steps = 10\n",
    "\n",
    "env = gym.make('CartPole-v0')\n",
    "\n",
    "opt_critic = Adam(critic.parameters(), lr=lr)\n",
    "opt_actor = Adam(actor.parameters(), lr=lr)\n",
    "\n",
    "f_rewards = []\n",
    "\n",
    "for i in tqdm_notebook(range(n_episodes)) :\n",
    "    done = False\n",
    "    acc_reward  = 0\n",
    "    observation_b = torch.tensor([env.reset()] , dtype=torch.float, device=dev)\n",
    "    count = 1\n",
    "    \n",
    "    rewards = []\n",
    "    critic_values = []\n",
    "    log_probs = []\n",
    "    \n",
    "    while not done :\n",
    "        \n",
    "        critic_val = critic(observation_b).view(-1)\n",
    "        critic_values.append(critic_val)\n",
    "        \n",
    "        actions_probs = actor(observation_b)\n",
    "        distribution = Categorical(actions_probs)\n",
    "        action = distribution.sample()\n",
    "        log_probs.append(distribution.log_prob(action))\n",
    "        \n",
    "        observation_a, reward, done, _ = env.step(action.detach().item())\n",
    "        observation_a = torch.tensor([observation_a] , dtype=torch.float, device=dev)\n",
    "        rewards.append(reward)\n",
    "        \n",
    "        acc_reward += reward\n",
    "        \n",
    "        if count % n_steps == 0 or done :\n",
    "            q_vals = np.zeros((len(rewards), 1))\n",
    "            with torch.no_grad() :\n",
    "                q_val = critic(observation_a).cpu().detach().data.numpy() * (1-done)\n",
    "            for i, r in enumerate(reversed(rewards)) :\n",
    "                q_val = r + gamma * q_val\n",
    "                q_vals[len(rewards)-1-i] = q_val\n",
    "            advantage = torch.tensor(q_vals, device=dev) - torch.stack(critic_values)\n",
    "            opt_actor.zero_grad()\n",
    "            opt_critic.zero_grad()\n",
    "            critic_loss = advantage.pow(2).mean()\n",
    "            critic_loss.backward()\n",
    "            opt_critic.step()\n",
    "            actor_loss = -(torch.stack(log_probs)*advantage.detach()).mean()\n",
    "            actor_loss.backward()\n",
    "            opt_actor.step()\n",
    "            \n",
    "            rewards.clear()\n",
    "            critic_values.clear()\n",
    "            log_probs.clear()\n",
    "            \n",
    "            \n",
    "            \n",
    "        \n",
    "        \n",
    "        count += 1\n",
    "        observation_b = observation_a"
   ]
  },
  {
   "cell_type": "code",
   "execution_count": 33,
   "metadata": {},
   "outputs": [
    {
     "data": {
      "text/plain": [
       "[<matplotlib.lines.Line2D at 0x20c40a24cf8>]"
      ]
     },
     "execution_count": 33,
     "metadata": {},
     "output_type": "execute_result"
    },
    {
     "data": {
      "image/png": "[encoded data removed]",
      "text/plain": [
       "<Figure size 432x288 with 1 Axes>"
      ]
     },
     "metadata": {
      "needs_background": "light"
     },
     "output_type": "display_data"
    }
   ],
   "source": [
    "plt.plot(range(len(f_rewards)), f_rewards)"
   ]
  },
  {
   "cell_type": "code",
   "execution_count": 34,
   "metadata": {},
   "outputs": [],
   "source": [
    "rewards_avg = np.convolve(f_rewards, np.ones((100,))/100, mode='valid')"
   ]
  },
  {
   "cell_type": "code",
   "execution_count": 35,
   "metadata": {},
   "outputs": [
    {
     "data": {
      "image/png": "[encoded data removed]",
      "text/plain": [
       "<Figure size 432x288 with 1 Axes>"
      ]
     },
     "metadata": {
      "needs_background": "light"
     },
     "output_type": "display_data"
    }
   ],
   "source": [
    "plt.plot(range(len(rewards_avg)), rewards_avg)\n",
    "plt.xlabel('Episode')\n",
    "plt.ylabel('Avg reward')\n",
    "plt.show()"
   ]
  }
 ],
 "metadata": {
  "kernelspec": {
   "display_name": "Python 3",
   "language": "python",
   "name": "python3"
  },
  "language_info": {
   "codemirror_mode": {
    "name": "ipython",
    "version": 3
   },
   "file_extension": ".py",
   "mimetype": "text/x-python",
   "name": "python",
   "nbconvert_exporter": "python",
   "pygments_lexer": "ipython3",
   "version": "3.7.2"
  }
 },
 "nbformat": 4,
 "nbformat_minor": 4
}
