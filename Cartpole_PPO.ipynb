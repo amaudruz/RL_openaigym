{
 "cells": [
  {
   "cell_type": "code",
   "execution_count": 50,
   "metadata": {},
   "outputs": [],
   "source": [
    "import gym \n",
    "import warnings\n",
    "warnings.filterwarnings('ignore')\n",
    "import matplotlib.pyplot as plt\n",
    "import torch\n",
    "from torch import nn\n",
    "from torch.nn import Sequential, Linear, ReLU, Module\n",
    "from tqdm.notebook import tqdm_notebook\n",
    "from torch.optim import Adam\n",
    "import math \n",
    "import random\n",
    "from torch.nn.functional import mse_loss\n",
    "import torch.nn.functional as F\n",
    "import itertools\n",
    "from torch.distributions import Categorical"
   ]
  },
  {
   "cell_type": "code",
   "execution_count": 51,
   "metadata": {},
   "outputs": [],
   "source": [
    "import math\n",
    "import random\n",
    "import numpy as np\n",
    "import matplotlib\n",
    "import matplotlib.pyplot as plt\n",
    "from collections import namedtuple\n",
    "from multiprocessing_env import SubprocVecEnv"
   ]
  },
  {
   "cell_type": "markdown",
   "metadata": {},
   "source": [
    "## PPO (Proximal policy approximation)"
   ]
  },
  {
   "cell_type": "code",
   "execution_count": 52,
   "metadata": {},
   "outputs": [],
   "source": [
    "class ActorCritic(nn.Module):\n",
    "    def __init__(self, num_inputs, num_outputs, hidden_size):\n",
    "        super(ActorCritic, self).__init__()\n",
    "        \n",
    "        self.critic = nn.Sequential(\n",
    "            nn.Linear(num_inputs, hidden_size),\n",
    "            nn.ReLU(),\n",
    "            nn.Linear(hidden_size, 1)\n",
    "        )\n",
    "        \n",
    "        self.actor = nn.Sequential(\n",
    "            nn.Linear(num_inputs, hidden_size),\n",
    "            nn.ReLU(),\n",
    "            nn.Linear(hidden_size, num_outputs),\n",
    "        )\n",
    "                \n",
    "    def forward(self, x):\n",
    "        value = self.critic(x)\n",
    "        out    = self.actor(x)\n",
    "        out = F.softmax(out, dim=-1)\n",
    "        dist =  Categorical(out)\n",
    "        return value, dist"
   ]
  },
  {
   "cell_type": "code",
   "execution_count": 67,
   "metadata": {},
   "outputs": [],
   "source": [
    "dev = torch.device('cpu')\n",
    "hidden_size = 20\n",
    "actor_critic = ActorCritic(4, 2, hidden_size)"
   ]
  },
  {
   "cell_type": "code",
   "execution_count": 68,
   "metadata": {},
   "outputs": [],
   "source": [
    "class Reward_counter() :\n",
    "    def __init__(self, n_wokers) :\n",
    "        self.n_workers = n_workers\n",
    "        self.reset()\n",
    "        \n",
    "    def reset(self) :\n",
    "        self.reward_log = [[] for i in range(self.n_workers)]\n",
    "        self.acc_reward = np.zeros(self.n_workers)\n",
    "        \n",
    "    def update(self, rewards, dones) :\n",
    "        for i, (r, done) in enumerate(zip(rewards, dones)) :\n",
    "            self.update_worker(i, r, done)\n",
    "            \n",
    "    def update_worker(self, i, reward, done) :\n",
    "        self.acc_reward[i] += reward\n",
    "        if done : \n",
    "            self.reward_log[i].append(self.acc_reward[i])\n",
    "            self.acc_reward[i] = 0\n",
    "        \n",
    "    def plot_results(self, conv=100) :\n",
    "        plt.title('Reward avg per workers over episodes')\n",
    "        plt.xlabel('Episode')\n",
    "        plt.ylabel('Reward avg')\n",
    "        for i in range(self.n_workers) :\n",
    "            rew_worker = rewards_avg = np.convolve(self.reward_log[i], np.ones((conv,))/conv, mode='valid')\n",
    "            plt.plot(rew_worker, label=f'worker {i}')\n",
    "        plt.show()"
   ]
  },
  {
   "cell_type": "code",
   "execution_count": 69,
   "metadata": {},
   "outputs": [],
   "source": [
    "num_envs = 16\n",
    "env_name = \"CartPole-v0\"\n",
    "\n",
    "def make_env():\n",
    "    def _thunk():\n",
    "        env = gym.make(env_name)\n",
    "        return env\n",
    "\n",
    "    return _thunk\n",
    "\n",
    "envs = [make_env() for i in range(num_envs)]\n",
    "envs = SubprocVecEnv(envs)\n",
    "\n",
    "env = gym.make(env_name)"
   ]
  },
  {
   "cell_type": "code",
   "execution_count": 70,
   "metadata": {},
   "outputs": [],
   "source": [
    "def batch_iter(advantage, ob_states, actions, log_probs, returns, batch_size=4) :\n",
    "    for i in range(n_steps // batch_size) :\n",
    "        idxs = np.random.permutation(range(n_steps))[:batch_size]\n",
    "        yield advantage[idxs], ob_states[idxs], actions[idxs], log_probs[idxs], returns[idxs], idxs"
   ]
  },
  {
   "cell_type": "code",
   "execution_count": 71,
   "metadata": {},
   "outputs": [
    {
     "data": {
      "application/vnd.jupyter.widget-view+json": {
       "model_id": "8aa7736af08644af8fd9edd526411cc7",
       "version_major": 2,
       "version_minor": 0
      },
      "text/plain": [
       "HBox(children=(FloatProgress(value=0.0, max=500.0), HTML(value='')))"
      ]
     },
     "metadata": {},
     "output_type": "display_data"
    },
    {
     "name": "stdout",
     "output_type": "stream",
     "text": [
      "\n"
     ]
    }
   ],
   "source": [
    "n_episodes = 500\n",
    "lr = 1e-3\n",
    "gamma = 0.99\n",
    "n_steps = 40\n",
    "n_workers = num_envs\n",
    "eps = 0.2\n",
    "batch_size = 4\n",
    "n_epochs = 4\n",
    "\n",
    "stop_crit= 195\n",
    "stop_crit_avg = 100\n",
    "\n",
    "\n",
    "opt = Adam(actor_critic.parameters(), lr=lr)\n",
    "\n",
    "r_counter = Reward_counter(n_workers)\n",
    "\n",
    "\n",
    "for i in tqdm_notebook(range(n_episodes)) :\n",
    "    \n",
    "    rewards = torch.zeros((n_steps, n_workers), dtype=torch.float).to(dev)\n",
    "    mask = torch.zeros((n_steps, n_workers), dtype=torch.float).to(dev)\n",
    "    log_probs = torch.zeros((n_steps, n_workers), dtype=torch.float).to(dev)\n",
    "    values = torch.zeros((n_steps, n_workers), dtype=torch.float).to(dev)\n",
    "    actions = torch.zeros((n_steps, n_workers), dtype=torch.float).to(dev)\n",
    "    ob_states = torch.zeros((n_steps, n_workers, 4), dtype=torch.float).to(dev)\n",
    "    \n",
    "    \n",
    "    if i == 0 :\n",
    "        observations = torch.tensor(envs.reset(), dtype=torch.float, device=dev)\n",
    "    assert observations.shape == (n_workers, 4)\n",
    "    \n",
    "    \n",
    "    step = 0\n",
    "    while step < n_steps :\n",
    "            \n",
    "        vals, dist = actor_critic(observations)\n",
    "        assert vals.shape == (n_workers, 1)\n",
    "                    \n",
    "        ob_states[step] = observations\n",
    "        values[step] = vals.view(-1)\n",
    "            \n",
    "        #choose action\n",
    "        act = dist.sample()\n",
    "        log_probs[step] = dist.log_prob(act)\n",
    "        actions[step] = act\n",
    "            \n",
    "        obs, r, dones, _ = envs.step(act.numpy())\n",
    "        mask[step] = torch.tensor(1-dones).to(dev)\n",
    "        rewards[step] = torch.from_numpy(r)\n",
    "            \n",
    "        observations = torch.tensor(obs, dtype=torch.float).to(dev)\n",
    "            \n",
    "        r_counter.update(r, dones)\n",
    "        step+=1                   \n",
    "    \n",
    "    #discounted returns calculation (with bootstraping)\n",
    "    returns = torch.zeros((n_steps, n_workers), dtype=torch.float).to(dev)\n",
    "    with torch.no_grad() :\n",
    "        q_val, _ = actor_critic(observations)\n",
    "    q_val = q_val.view(-1).detach()\n",
    "    for i in reversed(range(n_steps)) :\n",
    "        q_val = rewards[i] + gamma * q_val * (mask[i])\n",
    "        returns[i] = q_val\n",
    "    advantage = (returns - values).detach()\n",
    "    \n",
    "    for epoch in range(n_epochs) :\n",
    "        a = 0\n",
    "        for adv_b, state_b, action_b, l_probs_b, returns_b, idxs in batch_iter(advantage, ob_states, actions, log_probs, returns.detach(), batch_size=batch_size) :\n",
    "            \n",
    "            vals, dist = actor_critic(state_b)\n",
    "            \n",
    "            new_actor_probs = dist.log_prob(action_b)\n",
    "            \n",
    "            #probability ration and clipped prob ration\n",
    "            r = torch.exp((new_actor_probs) - (l_probs_b.detach()))\n",
    "            clipped_r = torch.clamp(r, 1-eps, 1+eps)\n",
    "            adv = returns_b.view(batch_size, n_workers, -1) - vals\n",
    "\n",
    "            #critic loss\n",
    "            critic_loss = adv.pow(2).mean()\n",
    "\n",
    "            #actor loss\n",
    "            clipped_loss = clipped_r * adv_b.detach()\n",
    "            loss_ = r * adv_b.detach()\n",
    "            actor_loss = -torch.min(clipped_loss, loss_).mean()\n",
    "            \n",
    "            opt.zero_grad()\n",
    "            loss = 0.5 * (critic_loss + actor_loss)\n",
    "            loss.backward()\n",
    "            opt.step()\n",
    "            \n",
    "            \n",
    "    "
   ]
  },
  {
   "cell_type": "code",
   "execution_count": 77,
   "metadata": {},
   "outputs": [
    {
     "data": {
      "image/png": "[encoded data removed]",
      "text/plain": [
       "<Figure size 432x288 with 1 Axes>"
      ]
     },
     "metadata": {
      "needs_background": "light"
     },
     "output_type": "display_data"
    }
   ],
   "source": [
    "r_counter.plot_results(conv=10)"
   ]
  }
 ],
 "metadata": {
  "kernelspec": {
   "display_name": "Python 3",
   "language": "python",
   "name": "python3"
  },
  "language_info": {
   "codemirror_mode": {
    "name": "ipython",
    "version": 3
   },
   "file_extension": ".py",
   "mimetype": "text/x-python",
   "name": "python",
   "nbconvert_exporter": "python",
   "pygments_lexer": "ipython3",
   "version": "3.7.2"
  }
 },
 "nbformat": 4,
 "nbformat_minor": 4
}
