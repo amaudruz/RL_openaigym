{
 "cells": [
  {
   "cell_type": "code",
   "execution_count": 457,
   "metadata": {},
   "outputs": [],
   "source": [
    "import gym \n",
    "import warnings\n",
    "warnings.filterwarnings('ignore')\n",
    "import matplotlib.pyplot as plt\n",
    "import torch\n",
    "from torch.nn import Sequential, Linear, ReLU, Module\n",
    "from tqdm.notebook import tqdm_notebook\n",
    "from torch.optim import Adam\n",
    "import math \n",
    "import random\n",
    "from torch.nn.functional import mse_loss\n",
    "import torch.nn.functional as F\n",
    "import itertools"
   ]
  },
  {
   "cell_type": "code",
   "execution_count": 404,
   "metadata": {},
   "outputs": [],
   "source": [
    "import math\n",
    "import random\n",
    "import numpy as np\n",
    "import matplotlib\n",
    "import matplotlib.pyplot as plt\n",
    "from collections import namedtuple"
   ]
  },
  {
   "cell_type": "markdown",
   "metadata": {},
   "source": [
    "# Cartpole v0"
   ]
  },
  {
   "cell_type": "markdown",
   "metadata": {},
   "source": [
    "## DQN (Deep Q-network) with semi-static target"
   ]
  },
  {
   "cell_type": "code",
   "execution_count": 442,
   "metadata": {},
   "outputs": [],
   "source": [
    "inp_dim = 4\n",
    "hidden_size1 = 20\n",
    "out_dim = 2\n",
    "device = 'cuda'\n",
    "dev = torch.device(device)\n",
    "q_model = Sequential(Linear(inp_dim, hidden_size1), ReLU(), Linear(hidden_size1, out_dim)).to(dev)\n",
    "q_target = Sequential(Linear(inp_dim, hidden_size1), ReLU(), Linear(hidden_size1, out_dim)).to(dev) \n",
    "q_target.load_state_dict(q_model.state_dict())"
   ]
  },
  {
   "cell_type": "code",
   "execution_count": 428,
   "metadata": {},
   "outputs": [],
   "source": [
    "Transition = namedtuple('Transition',\n",
    "                        ('state', 'action', 'next_state', 'reward'))\n",
    "\n",
    "\n",
    "class ReplayMemory(object):\n",
    "\n",
    "    def __init__(self, capacity):\n",
    "        self.capacity = capacity\n",
    "        self.memory = []\n",
    "        self.position = 0\n",
    "\n",
    "    def push(self, *args):\n",
    "        \"\"\"Saves a transition.\"\"\"\n",
    "        if len(self.memory) < self.capacity:\n",
    "            self.memory.append(None)\n",
    "        self.memory[self.position] = Transition(*args)\n",
    "        self.position = (self.position + 1) % self.capacity\n",
    "\n",
    "    def sample(self, batch_size):\n",
    "        return random.sample(self.memory, batch_size)\n",
    "\n",
    "    def __len__(self):\n",
    "        return len(self.memory)"
   ]
  },
  {
   "cell_type": "code",
   "execution_count": 421,
   "metadata": {},
   "outputs": [],
   "source": [
    "def choose_action(state, model, time) :\n",
    "    eps_threshold = EPS_END + (EPS_START - EPS_END) * math.exp(-1. * time / EPS_DECAY)\n",
    "    \n",
    "    sample = random.random()\n",
    "    if eps_threshold < sample : \n",
    "        with torch.no_grad():\n",
    "            action = model(state).max(1)[1].view(1, 1)\n",
    "    else : \n",
    "        action = torch.tensor([[random.randrange(out_dim)]], device=device, dtype=torch.long)\n",
    "    return action\n",
    "    "
   ]
  },
  {
   "cell_type": "code",
   "execution_count": 422,
   "metadata": {},
   "outputs": [],
   "source": [
    "def get_data_from_memory(replay_memory, target_model) :\n",
    "    transitions = replay_memory.sample(batch_size)\n",
    "    batch = Transition(*zip(*transitions))\n",
    "    non_final_mask = torch.tensor(tuple(map(lambda s: s is not None,\n",
    "                                          batch.next_state)), device=device, dtype=torch.bool)\n",
    "    non_final_next_states = torch.cat([s for s in batch.next_state\n",
    "                                                if s is not None])\n",
    "    actions = torch.cat(batch.action)\n",
    "    x = torch.cat(batch.state)\n",
    "    next_q_vals = torch.zeros(batch_size, device=dev)\n",
    "    with torch.no_grad(): \n",
    "        next_q_vals[non_final_mask] = target_model(non_final_next_states).max(1)[0].detach()\n",
    "    rewards = torch.cat(batch.reward)\n",
    "    y = rewards + gamma * next_q_vals\n",
    "    return x, y, actions\n",
    "    "
   ]
  },
  {
   "cell_type": "code",
   "execution_count": 425,
   "metadata": {},
   "outputs": [],
   "source": [
    "def train_model(model, target_model, replay_mem):\n",
    "    x, y, actions = get_data_from_memory(replay_mem, target_model)\n",
    "    opt.zero_grad()\n",
    "    preds = model(x).gather(1, actions)\n",
    "    loss = mse_loss(y.unsqueeze(-1), preds)\n",
    "    loss.backward()\n",
    "    for param in q_model.parameters():\n",
    "        param.grad.data.clamp_(-1, 1)\n",
    "    opt.step()"
   ]
  },
  {
   "cell_type": "code",
   "execution_count": 443,
   "metadata": {},
   "outputs": [
    {
     "data": {
      "application/vnd.jupyter.widget-view+json": {
       "model_id": "d356179442764fc3b043b79dae87eba4",
       "version_major": 2,
       "version_minor": 0
      },
      "text/plain": [
       "HBox(children=(FloatProgress(value=0.0, max=10000.0), HTML(value='')))"
      ]
     },
     "metadata": {},
     "output_type": "display_data"
    },
    {
     "name": "stdout",
     "output_type": "stream",
     "text": [
      "Game beat\n",
      "\n"
     ]
    }
   ],
   "source": [
    "n_episodes = 10000\n",
    "lr = 1e-3\n",
    "batch_size = 128\n",
    "EPS_START = 0.9\n",
    "EPS_END = 0.05\n",
    "EPS_DECAY = 200\n",
    "gamma = 0.99\n",
    "\n",
    "stop_crit= 195\n",
    "stop_crit_avg = 100\n",
    "\n",
    "target_sync_time = 5\n",
    "\n",
    "env = gym.make('CartPole-v0')\n",
    "observation_b = env.reset()\n",
    "\n",
    "opt = Adam(q_model.parameters(), lr=lr)\n",
    "\n",
    "replay_mem = ReplayMemory(1000)\n",
    "\n",
    "rewards = []\n",
    "actions = []\n",
    "\n",
    "frames = 1\n",
    "for i in tqdm_notebook(range(n_episodes)) :\n",
    "    done = False\n",
    "    acc_reward  = 0\n",
    "    observation_b = torch.tensor([env.reset()] , dtype=torch.float, device=dev)\n",
    "    while not done : \n",
    "        action = choose_action(observation_b, q_model, frames)\n",
    "        actions.append(action)\n",
    "        observation_a, reward, done, _ = env.step(action.item())\n",
    "        if not done :\n",
    "            observation_a = torch.tensor([observation_a], dtype=torch.float, device=dev)\n",
    "        else :\n",
    "            observation_a = None\n",
    "        \n",
    "        reward = torch.tensor([reward], device=dev)\n",
    "        \n",
    "        \n",
    "        replay_mem.push(observation_b, action, observation_a, reward)\n",
    "        acc_reward += reward\n",
    "        \n",
    "        if len(replay_mem) < batch_size :\n",
    "            continue\n",
    "        \n",
    "        if i % target_sync_time == 0 :\n",
    "            q_target.load_state_dict(q_model.state_dict())\n",
    "\n",
    "        train_model(q_model, q_target, replay_mem) \n",
    "        \n",
    "        \n",
    "        frames += 1\n",
    "        observation_b = observation_a\n",
    "    \n",
    "    rewards.append(acc_reward.item())\n",
    "    if len(rewards) > 100 and np.mean(np.asarray(rewards[-stop_crit_avg:])) > stop_crit :\n",
    "        print('Game beat')\n",
    "        break"
   ]
  },
  {
   "cell_type": "code",
   "execution_count": 445,
   "metadata": {},
   "outputs": [],
   "source": [
    "rewards_avg = np.convolve(rewards, np.ones((100,))/100, mode='valid')"
   ]
  },
  {
   "cell_type": "code",
   "execution_count": 449,
   "metadata": {
    "scrolled": true
   },
   "outputs": [
    {
     "data": {
      "image/png": "[encoded data removed]",
      "text/plain": [
       "<Figure size 432x288 with 1 Axes>"
      ]
     },
     "metadata": {
      "needs_background": "light"
     },
     "output_type": "display_data"
    }
   ],
   "source": [
    "plt.title('Reward')\n",
    "plt.plot(range(len(rewards)), rewards)\n",
    "plt.plot(range(len(rewards_avg)), rewards_avg)\n",
    "plt.show()"
   ]
  },
  {
   "cell_type": "code",
   "execution_count": 451,
   "metadata": {},
   "outputs": [
    {
     "data": {
      "image/png": "[encoded data removed]",
      "text/plain": [
       "<Figure size 432x288 with 1 Axes>"
      ]
     },
     "metadata": {
      "needs_background": "light"
     },
     "output_type": "display_data"
    }
   ],
   "source": [
    "plt.plot(range(len(rewards_avg)), rewards_avg)\n",
    "plt.xlabel('Episode')\n",
    "plt.ylabel('Avg reward')\n",
    "plt.show()"
   ]
  },
  {
   "cell_type": "markdown",
   "metadata": {},
   "source": [
    "## A2C (Advantage actor critic)"
   ]
  },
  {
   "cell_type": "code",
   "execution_count": 454,
   "metadata": {},
   "outputs": [],
   "source": [
    "class ActorNetwork(torch.nn.Module):\n",
    "\n",
    "    def __init__(self,input_size,hidden_size,action_size):\n",
    "        super(ActorNetwork, self).__init__()\n",
    "        self.fc1 = torch.nn.Linear(input_size,hidden_size)\n",
    "        self.fc2 = torch.nn.Linear(hidden_size,hidden_size)\n",
    "        self.fc3 = torch.nn.Linear(hidden_size,action_size)\n",
    "\n",
    "    def forward(self,x):\n",
    "        out = F.relu(self.fc1(x))\n",
    "        out = F.relu(self.fc2(out))\n",
    "        out = F.log_softmax(self.fc3(out))\n",
    "        return out"
   ]
  },
  {
   "cell_type": "code",
   "execution_count": 455,
   "metadata": {},
   "outputs": [],
   "source": [
    "class ValueNetwork(torch.nn.Module):\n",
    "\n",
    "    def __init__(self,input_size,hidden_size,output_size):\n",
    "        super(ValueNetwork, self).__init__()\n",
    "        self.fc1 = torch.nn.Linear(input_size,hidden_size)\n",
    "        self.fc2 = torch.nn.Linear(hidden_size,hidden_size)\n",
    "        self.fc3 = torch.nn.Linear(hidden_size,output_size)\n",
    "\n",
    "    def forward(self,x):\n",
    "        out = F.relu(self.fc1(x))\n",
    "        out = F.relu(self.fc2(out))\n",
    "        out = self.fc3(out)\n",
    "        return out"
   ]
  },
  {
   "cell_type": "code",
   "execution_count": 456,
   "metadata": {},
   "outputs": [],
   "source": [
    "hidden_size = 20\n",
    "critic = ValueNetwork(4, hidden_size, 2).to(dev)\n",
    "actor = ActorNetwork(4, hidden_size, 2).to(dev)"
   ]
  },
  {
   "cell_type": "code",
   "execution_count": null,
   "metadata": {},
   "outputs": [],
   "source": [
    "n_episodes = 1000\n",
    "lr = 1e-3\n",
    "gamma = 0.99\n",
    "\n",
    "stop_crit= 195\n",
    "stop_crit_avg = 100\n",
    "\n",
    "env = gym.make('CartPole-v0')\n",
    "\n",
    "opt = Adam(itertools.chain(critic.parameters(), actor.parameters()), lr=lr)\n",
    "\n",
    "rewards = []\n",
    "\n",
    "frames = 1\n",
    "for i in tqdm_notebook(range(n_episodes)) :\n",
    "    done = False\n",
    "    acc_reward  = 0\n",
    "    observation_b = torch.tensor([env.reset()] , dtype=torch.float, device=dev)\n",
    "    while not done : \n",
    "        actions_probs = \n",
    "        actions.append(action)\n",
    "        observation_a, reward, done, _ = env.step(action.item())\n",
    "        if not done :\n",
    "            observation_a = torch.tensor([observation_a], dtype=torch.float, device=dev)\n",
    "        else :\n",
    "            observation_a = None\n",
    "        \n",
    "        reward = torch.tensor([reward], device=dev)\n",
    "        \n",
    "        \n",
    "        replay_mem.push(observation_b, action, observation_a, reward)\n",
    "        acc_reward += reward\n",
    "        \n",
    "        if len(replay_mem) < batch_size :\n",
    "            continue\n",
    "        \n",
    "        if i % target_sync_time == 0 :\n",
    "            q_target.load_state_dict(q_model.state_dict())\n",
    "\n",
    "        train_model(q_model, q_target, replay_mem) \n",
    "        \n",
    "        \n",
    "        frames += 1\n",
    "        observation_b = observation_a\n",
    "    \n",
    "    rewards.append(acc_reward.item())\n",
    "    if len(rewards) > 100 and np.mean(np.asarray(rewards[-stop_crit_avg:])) > stop_crit :\n",
    "        print('Game beat')\n",
    "        break"
   ]
  }
 ],
 "metadata": {
  "kernelspec": {
   "display_name": "Python 3",
   "language": "python",
   "name": "python3"
  },
  "language_info": {
   "codemirror_mode": {
    "name": "ipython",
    "version": 3
   },
   "file_extension": ".py",
   "mimetype": "text/x-python",
   "name": "python",
   "nbconvert_exporter": "python",
   "pygments_lexer": "ipython3",
   "version": "3.7.2"
  }
 },
 "nbformat": 4,
 "nbformat_minor": 2
}
